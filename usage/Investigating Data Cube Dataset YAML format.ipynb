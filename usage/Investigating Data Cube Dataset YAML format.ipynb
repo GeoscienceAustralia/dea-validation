{
 "cells": [
  {
   "cell_type": "markdown",
   "metadata": {},
   "source": [
    "# Exploring Datasets in the DataCube Database"
   ]
  },
  {
   "cell_type": "code",
   "execution_count": 1,
   "metadata": {
    "ExecuteTime": {
     "end_time": "2017-08-09T06:48:12.752040Z",
     "start_time": "2017-08-09T06:48:12.736243Z"
    },
    "collapsed": true
   },
   "outputs": [],
   "source": [
    "import json\n",
    "import yaml\n",
    "\n",
    "from pygments import highlight\n",
    "from pygments.lexers import SqlLexer, YamlLexer\n",
    "from pygments.formatters import HtmlFormatter\n",
    "from IPython.core.display import HTML\n",
    "\n",
    "def display_yaml(yaml_in):\n",
    "    if not isinstance(yaml_in, str):\n",
    "        yaml_in = yaml.dump(yaml_in)\n",
    "    display(HTML(\"\"\"\n",
    "        <style>\n",
    "        {pygments_css}\n",
    "        </style>\n",
    "        \"\"\".format(pygments_css=HtmlFormatter().get_style_defs('.highlight'))))\n",
    "    display(HTML(data=highlight(yaml_in, YamlLexer(), HtmlFormatter())))"
   ]
  },
  {
   "cell_type": "code",
   "execution_count": 2,
   "metadata": {
    "ExecuteTime": {
     "end_time": "2017-08-09T06:28:12.662915Z",
     "start_time": "2017-08-09T06:28:10.873755Z"
    },
    "collapsed": true
   },
   "outputs": [],
   "source": [
    "from datacube import Datacube\n",
    "from datacube.model import Range"
   ]
  },
  {
   "cell_type": "code",
   "execution_count": 3,
   "metadata": {
    "collapsed": true
   },
   "outputs": [],
   "source": [
    "dc = Datacube(app='explore-yaml')"
   ]
  },
  {
   "cell_type": "markdown",
   "metadata": {},
   "source": [
    "# Landsat 7 PQ Scene\n",
    "\n",
    "This is stored in GeoTiff Format."
   ]
  },
  {
   "cell_type": "code",
   "execution_count": 4,
   "metadata": {
    "ExecuteTime": {
     "end_time": "2017-08-09T06:52:53.927267Z",
     "start_time": "2017-08-09T06:52:52.683474Z"
    },
    "scrolled": false
   },
   "outputs": [
    {
     "data": {
      "text/html": [
       "\n",
       "        <style>\n",
       "        .highlight .hll { background-color: #ffffcc }\n",
       ".highlight  { background: #f8f8f8; }\n",
       ".highlight .c { color: #408080; font-style: italic } /* Comment */\n",
       ".highlight .err { border: 1px solid #FF0000 } /* Error */\n",
       ".highlight .k { color: #008000; font-weight: bold } /* Keyword */\n",
       ".highlight .o { color: #666666 } /* Operator */\n",
       ".highlight .ch { color: #408080; font-style: italic } /* Comment.Hashbang */\n",
       ".highlight .cm { color: #408080; font-style: italic } /* Comment.Multiline */\n",
       ".highlight .cp { color: #BC7A00 } /* Comment.Preproc */\n",
       ".highlight .cpf { color: #408080; font-style: italic } /* Comment.PreprocFile */\n",
       ".highlight .c1 { color: #408080; font-style: italic } /* Comment.Single */\n",
       ".highlight .cs { color: #408080; font-style: italic } /* Comment.Special */\n",
       ".highlight .gd { color: #A00000 } /* Generic.Deleted */\n",
       ".highlight .ge { font-style: italic } /* Generic.Emph */\n",
       ".highlight .gr { color: #FF0000 } /* Generic.Error */\n",
       ".highlight .gh { color: #000080; font-weight: bold } /* Generic.Heading */\n",
       ".highlight .gi { color: #00A000 } /* Generic.Inserted */\n",
       ".highlight .go { color: #888888 } /* Generic.Output */\n",
       ".highlight .gp { color: #000080; font-weight: bold } /* Generic.Prompt */\n",
       ".highlight .gs { font-weight: bold } /* Generic.Strong */\n",
       ".highlight .gu { color: #800080; font-weight: bold } /* Generic.Subheading */\n",
       ".highlight .gt { color: #0044DD } /* Generic.Traceback */\n",
       ".highlight .kc { color: #008000; font-weight: bold } /* Keyword.Constant */\n",
       ".highlight .kd { color: #008000; font-weight: bold } /* Keyword.Declaration */\n",
       ".highlight .kn { color: #008000; font-weight: bold } /* Keyword.Namespace */\n",
       ".highlight .kp { color: #008000 } /* Keyword.Pseudo */\n",
       ".highlight .kr { color: #008000; font-weight: bold } /* Keyword.Reserved */\n",
       ".highlight .kt { color: #B00040 } /* Keyword.Type */\n",
       ".highlight .m { color: #666666 } /* Literal.Number */\n",
       ".highlight .s { color: #BA2121 } /* Literal.String */\n",
       ".highlight .na { color: #7D9029 } /* Name.Attribute */\n",
       ".highlight .nb { color: #008000 } /* Name.Builtin */\n",
       ".highlight .nc { color: #0000FF; font-weight: bold } /* Name.Class */\n",
       ".highlight .no { color: #880000 } /* Name.Constant */\n",
       ".highlight .nd { color: #AA22FF } /* Name.Decorator */\n",
       ".highlight .ni { color: #999999; font-weight: bold } /* Name.Entity */\n",
       ".highlight .ne { color: #D2413A; font-weight: bold } /* Name.Exception */\n",
       ".highlight .nf { color: #0000FF } /* Name.Function */\n",
       ".highlight .nl { color: #A0A000 } /* Name.Label */\n",
       ".highlight .nn { color: #0000FF; font-weight: bold } /* Name.Namespace */\n",
       ".highlight .nt { color: #008000; font-weight: bold } /* Name.Tag */\n",
       ".highlight .nv { color: #19177C } /* Name.Variable */\n",
       ".highlight .ow { color: #AA22FF; font-weight: bold } /* Operator.Word */\n",
       ".highlight .w { color: #bbbbbb } /* Text.Whitespace */\n",
       ".highlight .mb { color: #666666 } /* Literal.Number.Bin */\n",
       ".highlight .mf { color: #666666 } /* Literal.Number.Float */\n",
       ".highlight .mh { color: #666666 } /* Literal.Number.Hex */\n",
       ".highlight .mi { color: #666666 } /* Literal.Number.Integer */\n",
       ".highlight .mo { color: #666666 } /* Literal.Number.Oct */\n",
       ".highlight .sa { color: #BA2121 } /* Literal.String.Affix */\n",
       ".highlight .sb { color: #BA2121 } /* Literal.String.Backtick */\n",
       ".highlight .sc { color: #BA2121 } /* Literal.String.Char */\n",
       ".highlight .dl { color: #BA2121 } /* Literal.String.Delimiter */\n",
       ".highlight .sd { color: #BA2121; font-style: italic } /* Literal.String.Doc */\n",
       ".highlight .s2 { color: #BA2121 } /* Literal.String.Double */\n",
       ".highlight .se { color: #BB6622; font-weight: bold } /* Literal.String.Escape */\n",
       ".highlight .sh { color: #BA2121 } /* Literal.String.Heredoc */\n",
       ".highlight .si { color: #BB6688; font-weight: bold } /* Literal.String.Interpol */\n",
       ".highlight .sx { color: #008000 } /* Literal.String.Other */\n",
       ".highlight .sr { color: #BB6688 } /* Literal.String.Regex */\n",
       ".highlight .s1 { color: #BA2121 } /* Literal.String.Single */\n",
       ".highlight .ss { color: #19177C } /* Literal.String.Symbol */\n",
       ".highlight .bp { color: #008000 } /* Name.Builtin.Pseudo */\n",
       ".highlight .fm { color: #0000FF } /* Name.Function.Magic */\n",
       ".highlight .vc { color: #19177C } /* Name.Variable.Class */\n",
       ".highlight .vg { color: #19177C } /* Name.Variable.Global */\n",
       ".highlight .vi { color: #19177C } /* Name.Variable.Instance */\n",
       ".highlight .vm { color: #19177C } /* Name.Variable.Magic */\n",
       ".highlight .il { color: #666666 } /* Literal.Number.Integer.Long */\n",
       "        </style>\n",
       "        "
      ],
      "text/plain": [
       "<IPython.core.display.HTML object>"
      ]
     },
     "metadata": {},
     "output_type": "display_data"
    },
    {
     "data": {
      "text/html": [
       "<div class=\"highlight\"><pre><span></span><span class=\"l l-Scalar l-Scalar-Plain\">acquisition</span><span class=\"p p-Indicator\">:</span>\n",
       "  <span class=\"l l-Scalar l-Scalar-Plain\">groundstation</span><span class=\"p p-Indicator\">:</span> <span class=\"p p-Indicator\">{</span><span class=\"nv\">code</span><span class=\"p p-Indicator\">:</span> <span class=\"nv\">ASA</span><span class=\"p p-Indicator\">,</span> <span class=\"nv\">eods_domain_code</span><span class=\"p p-Indicator\">:</span> <span class=\"s\">&#39;002&#39;</span><span class=\"p p-Indicator\">,</span> <span class=\"nv\">label</span><span class=\"p p-Indicator\">:</span> <span class=\"nv\">Alice Springs</span><span class=\"p p-Indicator\">}</span>\n",
       "<span class=\"l l-Scalar l-Scalar-Plain\">browse</span><span class=\"p p-Indicator\">:</span>\n",
       "  <span class=\"l l-Scalar l-Scalar-Plain\">full</span><span class=\"p p-Indicator\">:</span>\n",
       "    <span class=\"l l-Scalar l-Scalar-Plain\">blue_band</span><span class=\"p p-Indicator\">:</span> <span class=\"l l-Scalar l-Scalar-Plain\">pqa</span>\n",
       "    <span class=\"l l-Scalar l-Scalar-Plain\">cell_size</span><span class=\"p p-Indicator\">:</span> <span class=\"l l-Scalar l-Scalar-Plain\">25.0</span>\n",
       "    <span class=\"l l-Scalar l-Scalar-Plain\">file_type</span><span class=\"p p-Indicator\">:</span> <span class=\"l l-Scalar l-Scalar-Plain\">image/jpg</span>\n",
       "    <span class=\"l l-Scalar l-Scalar-Plain\">green_band</span><span class=\"p p-Indicator\">:</span> <span class=\"l l-Scalar l-Scalar-Plain\">pqa</span>\n",
       "    <span class=\"l l-Scalar l-Scalar-Plain\">path</span><span class=\"p p-Indicator\">:</span> <span class=\"l l-Scalar l-Scalar-Plain\">browse.fr.jpg</span>\n",
       "    <span class=\"l l-Scalar l-Scalar-Plain\">red_band</span><span class=\"p p-Indicator\">:</span> <span class=\"l l-Scalar l-Scalar-Plain\">pqa</span>\n",
       "    <span class=\"l l-Scalar l-Scalar-Plain\">shape</span><span class=\"p p-Indicator\">:</span> <span class=\"p p-Indicator\">{</span><span class=\"nv\">x</span><span class=\"p p-Indicator\">:</span> <span class=\"nv\">9535</span><span class=\"p p-Indicator\">,</span> <span class=\"nv\">y</span><span class=\"p p-Indicator\">:</span> <span class=\"nv\">8380</span><span class=\"p p-Indicator\">}</span>\n",
       "  <span class=\"l l-Scalar l-Scalar-Plain\">medium</span><span class=\"p p-Indicator\">:</span>\n",
       "    <span class=\"l l-Scalar l-Scalar-Plain\">blue_band</span><span class=\"p p-Indicator\">:</span> <span class=\"l l-Scalar l-Scalar-Plain\">pqa</span>\n",
       "    <span class=\"l l-Scalar l-Scalar-Plain\">cell_size</span><span class=\"p p-Indicator\">:</span> <span class=\"l l-Scalar l-Scalar-Plain\">232.7880859375</span>\n",
       "    <span class=\"l l-Scalar l-Scalar-Plain\">file_type</span><span class=\"p p-Indicator\">:</span> <span class=\"l l-Scalar l-Scalar-Plain\">image/jpg</span>\n",
       "    <span class=\"l l-Scalar l-Scalar-Plain\">green_band</span><span class=\"p p-Indicator\">:</span> <span class=\"l l-Scalar l-Scalar-Plain\">pqa</span>\n",
       "    <span class=\"l l-Scalar l-Scalar-Plain\">path</span><span class=\"p p-Indicator\">:</span> <span class=\"l l-Scalar l-Scalar-Plain\">browse.jpg</span>\n",
       "    <span class=\"l l-Scalar l-Scalar-Plain\">red_band</span><span class=\"p p-Indicator\">:</span> <span class=\"l l-Scalar l-Scalar-Plain\">pqa</span>\n",
       "    <span class=\"l l-Scalar l-Scalar-Plain\">shape</span><span class=\"p p-Indicator\">:</span> <span class=\"p p-Indicator\">{</span><span class=\"nv\">x</span><span class=\"p p-Indicator\">:</span> <span class=\"nv\">1024</span><span class=\"p p-Indicator\">,</span> <span class=\"nv\">y</span><span class=\"p p-Indicator\">:</span> <span class=\"nv\">900</span><span class=\"p p-Indicator\">}</span>\n",
       "<span class=\"l l-Scalar l-Scalar-Plain\">checksum_path</span><span class=\"p p-Indicator\">:</span> <span class=\"l l-Scalar l-Scalar-Plain\">package.sha1</span>\n",
       "<span class=\"l l-Scalar l-Scalar-Plain\">creation_dt</span><span class=\"p p-Indicator\">:</span> <span class=\"s\">&#39;2016-11-07</span><span class=\"nv\"> </span><span class=\"s\">07:57:09&#39;</span>\n",
       "<span class=\"l l-Scalar l-Scalar-Plain\">extent</span><span class=\"p p-Indicator\">:</span>\n",
       "  <span class=\"l l-Scalar l-Scalar-Plain\">center_dt</span><span class=\"p p-Indicator\">:</span> <span class=\"s\">&#39;2011-08-16</span><span class=\"nv\"> </span><span class=\"s\">00:01:03.188044&#39;</span>\n",
       "  <span class=\"l l-Scalar l-Scalar-Plain\">coord</span><span class=\"p p-Indicator\">:</span>\n",
       "    <span class=\"l l-Scalar l-Scalar-Plain\">ll</span><span class=\"p p-Indicator\">:</span> <span class=\"p p-Indicator\">{</span><span class=\"nv\">lat</span><span class=\"p p-Indicator\">:</span> <span class=\"nv\">-25.485828</span><span class=\"p p-Indicator\">,</span> <span class=\"nv\">lon</span><span class=\"p p-Indicator\">:</span> <span class=\"nv\">145.096542</span><span class=\"p p-Indicator\">}</span>\n",
       "    <span class=\"l l-Scalar l-Scalar-Plain\">lr</span><span class=\"p p-Indicator\">:</span> <span class=\"p p-Indicator\">{</span><span class=\"nv\">lat</span><span class=\"p p-Indicator\">:</span> <span class=\"nv\">-25.497435</span><span class=\"p p-Indicator\">,</span> <span class=\"nv\">lon</span><span class=\"p p-Indicator\">:</span> <span class=\"nv\">147.467784</span><span class=\"p p-Indicator\">}</span>\n",
       "    <span class=\"l l-Scalar l-Scalar-Plain\">ul</span><span class=\"p p-Indicator\">:</span> <span class=\"p p-Indicator\">{</span><span class=\"nv\">lat</span><span class=\"p p-Indicator\">:</span> <span class=\"nv\">-23.594958</span><span class=\"p p-Indicator\">,</span> <span class=\"nv\">lon</span><span class=\"p p-Indicator\">:</span> <span class=\"nv\">145.124865</span><span class=\"p p-Indicator\">}</span>\n",
       "    <span class=\"l l-Scalar l-Scalar-Plain\">ur</span><span class=\"p p-Indicator\">:</span> <span class=\"p p-Indicator\">{</span><span class=\"nv\">lat</span><span class=\"p p-Indicator\">:</span> <span class=\"nv\">-23.605597</span><span class=\"p p-Indicator\">,</span> <span class=\"nv\">lon</span><span class=\"p p-Indicator\">:</span> <span class=\"nv\">147.460819</span><span class=\"p p-Indicator\">}</span>\n",
       "  <span class=\"l l-Scalar l-Scalar-Plain\">from_dt</span><span class=\"p p-Indicator\">:</span> <span class=\"s\">&#39;2011-08-16</span><span class=\"nv\"> </span><span class=\"s\">00:00:49&#39;</span>\n",
       "  <span class=\"l l-Scalar l-Scalar-Plain\">to_dt</span><span class=\"p p-Indicator\">:</span> <span class=\"s\">&#39;2011-08-16</span><span class=\"nv\"> </span><span class=\"s\">00:01:16&#39;</span>\n",
       "<span class=\"l l-Scalar l-Scalar-Plain\">format</span><span class=\"p p-Indicator\">:</span> <span class=\"p p-Indicator\">{</span><span class=\"nv\">name</span><span class=\"p p-Indicator\">:</span> <span class=\"nv\">GeoTIFF</span><span class=\"p p-Indicator\">}</span>\n",
       "<span class=\"l l-Scalar l-Scalar-Plain\">ga_label</span><span class=\"p p-Indicator\">:</span> <span class=\"l l-Scalar l-Scalar-Plain\">LS5_TM_PQ_P55_GAPQ01-002_094_077_20110816</span>\n",
       "<span class=\"l l-Scalar l-Scalar-Plain\">ga_level</span><span class=\"p p-Indicator\">:</span> <span class=\"l l-Scalar l-Scalar-Plain\">P55</span>\n",
       "<span class=\"l l-Scalar l-Scalar-Plain\">grid_spatial</span><span class=\"p p-Indicator\">:</span>\n",
       "  <span class=\"l l-Scalar l-Scalar-Plain\">projection</span><span class=\"p p-Indicator\">:</span>\n",
       "    <span class=\"l l-Scalar l-Scalar-Plain\">datum</span><span class=\"p p-Indicator\">:</span> <span class=\"l l-Scalar l-Scalar-Plain\">GDA94</span>\n",
       "    <span class=\"l l-Scalar l-Scalar-Plain\">ellipsoid</span><span class=\"p p-Indicator\">:</span> <span class=\"l l-Scalar l-Scalar-Plain\">GRS80</span>\n",
       "    <span class=\"l l-Scalar l-Scalar-Plain\">geo_ref_points</span><span class=\"p p-Indicator\">:</span>\n",
       "      <span class=\"l l-Scalar l-Scalar-Plain\">ll</span><span class=\"p p-Indicator\">:</span> <span class=\"p p-Indicator\">{</span><span class=\"nv\">x</span><span class=\"p p-Indicator\">:</span> <span class=\"nv\">308662.5</span><span class=\"p p-Indicator\">,</span> <span class=\"nv\">y</span><span class=\"p p-Indicator\">:</span> <span class=\"nv\">7179887.5</span><span class=\"p p-Indicator\">}</span>\n",
       "      <span class=\"l l-Scalar l-Scalar-Plain\">lr</span><span class=\"p p-Indicator\">:</span> <span class=\"p p-Indicator\">{</span><span class=\"nv\">x</span><span class=\"p p-Indicator\">:</span> <span class=\"nv\">547012.5</span><span class=\"p p-Indicator\">,</span> <span class=\"nv\">y</span><span class=\"p p-Indicator\">:</span> <span class=\"nv\">7179887.5</span><span class=\"p p-Indicator\">}</span>\n",
       "      <span class=\"l l-Scalar l-Scalar-Plain\">ul</span><span class=\"p p-Indicator\">:</span> <span class=\"p p-Indicator\">{</span><span class=\"nv\">x</span><span class=\"p p-Indicator\">:</span> <span class=\"nv\">308662.5</span><span class=\"p p-Indicator\">,</span> <span class=\"nv\">y</span><span class=\"p p-Indicator\">:</span> <span class=\"nv\">7389362.5</span><span class=\"p p-Indicator\">}</span>\n",
       "      <span class=\"l l-Scalar l-Scalar-Plain\">ur</span><span class=\"p p-Indicator\">:</span> <span class=\"p p-Indicator\">{</span><span class=\"nv\">x</span><span class=\"p p-Indicator\">:</span> <span class=\"nv\">547012.5</span><span class=\"p p-Indicator\">,</span> <span class=\"nv\">y</span><span class=\"p p-Indicator\">:</span> <span class=\"nv\">7389362.5</span><span class=\"p p-Indicator\">}</span>\n",
       "    <span class=\"l l-Scalar l-Scalar-Plain\">map_projection</span><span class=\"p p-Indicator\">:</span> <span class=\"l l-Scalar l-Scalar-Plain\">UTM</span>\n",
       "    <span class=\"l l-Scalar l-Scalar-Plain\">orientation</span><span class=\"p p-Indicator\">:</span> <span class=\"l l-Scalar l-Scalar-Plain\">NORTH_UP</span>\n",
       "    <span class=\"l l-Scalar l-Scalar-Plain\">resampling_option</span><span class=\"p p-Indicator\">:</span> <span class=\"l l-Scalar l-Scalar-Plain\">CUBIC_CONVOLUTION</span>\n",
       "    <span class=\"l l-Scalar l-Scalar-Plain\">valid_data</span><span class=\"p p-Indicator\">:</span>\n",
       "      <span class=\"l l-Scalar l-Scalar-Plain\">coordinates</span><span class=\"p p-Indicator\">:</span>\n",
       "      <span class=\"p p-Indicator\">-</span> <span class=\"p p-Indicator\">-</span> <span class=\"p p-Indicator\">[</span><span class=\"nv\">351175.0</span><span class=\"p p-Indicator\">,</span> <span class=\"nv\">7388250.0</span><span class=\"p p-Indicator\">]</span>\n",
       "        <span class=\"p p-Indicator\">-</span> <span class=\"p p-Indicator\">[</span><span class=\"nv\">351050.5802977914</span><span class=\"p p-Indicator\">,</span> <span class=\"nv\">7388005.3551978525</span><span class=\"p p-Indicator\">]</span>\n",
       "        <span class=\"p p-Indicator\">-</span> <span class=\"p p-Indicator\">[</span><span class=\"nv\">350425.5729077745</span><span class=\"p p-Indicator\">,</span> <span class=\"nv\">7385155.321387545</span><span class=\"p p-Indicator\">]</span>\n",
       "        <span class=\"p p-Indicator\">-</span> <span class=\"p p-Indicator\">[</span><span class=\"nv\">335300.57045319414</span><span class=\"p p-Indicator\">,</span> <span class=\"nv\">7315605.310107613</span><span class=\"p p-Indicator\">]</span>\n",
       "        <span class=\"p p-Indicator\">-</span> <span class=\"p p-Indicator\">[</span><span class=\"nv\">320450.5648163944</span><span class=\"p p-Indicator\">,</span> <span class=\"nv\">7247055.284108454</span><span class=\"p p-Indicator\">]</span>\n",
       "        <span class=\"p p-Indicator\">-</span> <span class=\"p p-Indicator\">[</span><span class=\"nv\">313050.5591063252</span><span class=\"p p-Indicator\">,</span> <span class=\"nv\">7212730.257634104</span><span class=\"p p-Indicator\">]</span>\n",
       "        <span class=\"p p-Indicator\">-</span> <span class=\"p p-Indicator\">[</span><span class=\"nv\">312850.5362553753</span><span class=\"p p-Indicator\">,</span> <span class=\"nv\">7211780.150262026</span><span class=\"p p-Indicator\">]</span>\n",
       "        <span class=\"p p-Indicator\">-</span> <span class=\"p p-Indicator\">[</span><span class=\"nv\">312864.6958032536</span><span class=\"p p-Indicator\">,</span> <span class=\"nv\">7211652.222301929</span><span class=\"p p-Indicator\">]</span>\n",
       "        <span class=\"p p-Indicator\">-</span> <span class=\"p p-Indicator\">[</span><span class=\"nv\">313921.1665667542</span><span class=\"p p-Indicator\">,</span> <span class=\"nv\">7211175.295652416</span><span class=\"p p-Indicator\">]</span>\n",
       "        <span class=\"p p-Indicator\">-</span> <span class=\"p p-Indicator\">[</span><span class=\"nv\">504925.0</span><span class=\"p p-Indicator\">,</span> <span class=\"nv\">7181750.0</span><span class=\"p p-Indicator\">]</span>\n",
       "        <span class=\"p p-Indicator\">-</span> <span class=\"p p-Indicator\">[</span><span class=\"nv\">506399.435354136</span><span class=\"p p-Indicator\">,</span> <span class=\"nv\">7188444.716680187</span><span class=\"p p-Indicator\">]</span>\n",
       "        <span class=\"p p-Indicator\">-</span> <span class=\"p p-Indicator\">[</span><span class=\"nv\">542574.436270297</span><span class=\"p p-Indicator\">,</span> <span class=\"nv\">7355894.720919211</span><span class=\"p p-Indicator\">]</span>\n",
       "        <span class=\"p p-Indicator\">-</span> <span class=\"p p-Indicator\">[</span><span class=\"nv\">542974.6598480958</span><span class=\"p p-Indicator\">,</span> <span class=\"nv\">7357770.890025318</span><span class=\"p p-Indicator\">]</span>\n",
       "        <span class=\"p p-Indicator\">-</span> <span class=\"p p-Indicator\">[</span><span class=\"nv\">543024.7487373415</span><span class=\"p p-Indicator\">,</span> <span class=\"nv\">7358096.464466094</span><span class=\"p p-Indicator\">]</span>\n",
       "        <span class=\"p p-Indicator\">-</span> <span class=\"p p-Indicator\">[</span><span class=\"nv\">543011.1803398875</span><span class=\"p p-Indicator\">,</span> <span class=\"nv\">7358247.360679775</span><span class=\"p p-Indicator\">]</span>\n",
       "        <span class=\"p p-Indicator\">-</span> <span class=\"p p-Indicator\">[</span><span class=\"nv\">540703.8426751571</span><span class=\"p p-Indicator\">,</span> <span class=\"nv\">7358849.702911723</span><span class=\"p p-Indicator\">]</span>\n",
       "        <span class=\"p p-Indicator\">-</span> <span class=\"p p-Indicator\">[</span><span class=\"nv\">351175.0</span><span class=\"p p-Indicator\">,</span> <span class=\"nv\">7388250.0</span><span class=\"p p-Indicator\">]</span>\n",
       "      <span class=\"l l-Scalar l-Scalar-Plain\">type</span><span class=\"p p-Indicator\">:</span> <span class=\"l l-Scalar l-Scalar-Plain\">Polygon</span>\n",
       "    <span class=\"l l-Scalar l-Scalar-Plain\">zone</span><span class=\"p p-Indicator\">:</span> <span class=\"l l-Scalar l-Scalar-Plain\">-55</span>\n",
       "<span class=\"l l-Scalar l-Scalar-Plain\">id</span><span class=\"p p-Indicator\">:</span> <span class=\"l l-Scalar l-Scalar-Plain\">273ffe77-b46f-4973-9773-85995db0e584</span>\n",
       "<span class=\"l l-Scalar l-Scalar-Plain\">image</span><span class=\"p p-Indicator\">:</span>\n",
       "  <span class=\"l l-Scalar l-Scalar-Plain\">bands</span><span class=\"p p-Indicator\">:</span>\n",
       "    <span class=\"l l-Scalar l-Scalar-Plain\">pqa</span><span class=\"p p-Indicator\">:</span> <span class=\"p p-Indicator\">{</span><span class=\"nv\">number</span><span class=\"p p-Indicator\">:</span> <span class=\"nv\">pqa</span><span class=\"p p-Indicator\">,</span> <span class=\"nv\">path</span><span class=\"p p-Indicator\">:</span> <span class=\"nv\">product/LS5_TM_PQ_P55_GAPQ01-002_094_077_20110816.tif</span><span class=\"p p-Indicator\">}</span>\n",
       "  <span class=\"l l-Scalar l-Scalar-Plain\">satellite_ref_point_start</span><span class=\"p p-Indicator\">:</span> <span class=\"p p-Indicator\">{</span><span class=\"nv\">x</span><span class=\"p p-Indicator\">:</span> <span class=\"nv\">94</span><span class=\"p p-Indicator\">,</span> <span class=\"nv\">y</span><span class=\"p p-Indicator\">:</span> <span class=\"nv\">77</span><span class=\"p p-Indicator\">}</span>\n",
       "<span class=\"l l-Scalar l-Scalar-Plain\">instrument</span><span class=\"p p-Indicator\">:</span> <span class=\"p p-Indicator\">{</span><span class=\"nv\">name</span><span class=\"p p-Indicator\">:</span> <span class=\"nv\">TM</span><span class=\"p p-Indicator\">,</span> <span class=\"nv\">operation_mode</span><span class=\"p p-Indicator\">:</span> <span class=\"nv\">BUMPER</span><span class=\"p p-Indicator\">}</span>\n",
       "<span class=\"l l-Scalar l-Scalar-Plain\">lineage</span><span class=\"p p-Indicator\">:</span>\n",
       "  <span class=\"l l-Scalar l-Scalar-Plain\">algorithm</span><span class=\"p p-Indicator\">:</span> <span class=\"p p-Indicator\">{</span><span class=\"nv\">doi</span><span class=\"p p-Indicator\">:</span> <span class=\"s\">&#39;http://dx.doi.org/10.1109/IGARSS.2013.6723746&#39;</span><span class=\"p p-Indicator\">,</span> <span class=\"nv\">name</span><span class=\"p p-Indicator\">:</span> <span class=\"nv\">pqa</span><span class=\"p p-Indicator\">,</span> <span class=\"nv\">version</span><span class=\"p p-Indicator\">:</span> <span class=\"nv\">4.2.5+dirty</span><span class=\"p p-Indicator\">}</span>\n",
       "  <span class=\"l l-Scalar l-Scalar-Plain\">ancillary</span><span class=\"p p-Indicator\">:</span>\n",
       "    <span class=\"l l-Scalar l-Scalar-Plain\">land_sea_mask</span><span class=\"p p-Indicator\">:</span> <span class=\"p p-Indicator\">{</span><span class=\"nv\">access_dt</span><span class=\"p p-Indicator\">:</span> <span class=\"s\">&#39;2016-11-07</span><span class=\"nv\"> </span><span class=\"s\">07:54:29&#39;</span><span class=\"p p-Indicator\">,</span> <span class=\"nv\">file_owner</span><span class=\"p p-Indicator\">:</span> <span class=\"nv\">Joshua Sixsmith</span><span class=\"p p-Indicator\">,</span>\n",
       "      <span class=\"nv\">modification_dt</span><span class=\"p p-Indicator\">:</span> <span class=\"s\">&#39;2013-11-04</span><span class=\"nv\"> </span><span class=\"s\">01:30:15&#39;</span><span class=\"p p-Indicator\">,</span> <span class=\"nv\">name</span><span class=\"p p-Indicator\">:</span> <span class=\"nv\">Rasterised Land/Sea Mask</span><span class=\"p p-Indicator\">,</span> <span class=\"nv\">type</span><span class=\"p p-Indicator\">:</span> <span class=\"nv\">land_sea_mask</span><span class=\"p p-Indicator\">,</span>\n",
       "      <span class=\"nv\">uri</span><span class=\"p p-Indicator\">:</span> <span class=\"nv\">/g/data/v10/eoancillarydata/Land_Sea_Rasters/WORLDzone55.tif</span><span class=\"p p-Indicator\">}</span>\n",
       "  <span class=\"l l-Scalar l-Scalar-Plain\">machine</span><span class=\"p p-Indicator\">:</span>\n",
       "    <span class=\"l l-Scalar l-Scalar-Plain\">hostname</span><span class=\"p p-Indicator\">:</span> <span class=\"l l-Scalar l-Scalar-Plain\">r3494</span>\n",
       "    <span class=\"l l-Scalar l-Scalar-Plain\">runtime_id</span><span class=\"p p-Indicator\">:</span> <span class=\"l l-Scalar l-Scalar-Plain\">1c0080e6-a4a4-11e6-89f8-a0000220fe80</span>\n",
       "    <span class=\"l l-Scalar l-Scalar-Plain\">software_versions</span><span class=\"p p-Indicator\">:</span>\n",
       "      <span class=\"l l-Scalar l-Scalar-Plain\">eodatasets</span><span class=\"p p-Indicator\">:</span> <span class=\"p p-Indicator\">{</span><span class=\"nv\">repo_url</span><span class=\"p p-Indicator\">:</span> <span class=\"s\">&#39;https://github.com/GeoscienceAustralia/eo-datasets.git&#39;</span><span class=\"p p-Indicator\">,</span>\n",
       "        <span class=\"nv\">version</span><span class=\"p p-Indicator\">:</span> <span class=\"s\">&#39;0.8&#39;</span><span class=\"p p-Indicator\">}</span>\n",
       "      <span class=\"l l-Scalar l-Scalar-Plain\">gaip</span><span class=\"p p-Indicator\">:</span> <span class=\"p p-Indicator\">{</span><span class=\"nv\">repo_url</span><span class=\"p p-Indicator\">:</span> <span class=\"s\">&#39;https://github.com/GeoscienceAustralia/ga-neo-landsat-processor.git&#39;</span><span class=\"p p-Indicator\">,</span>\n",
       "        <span class=\"nv\">version</span><span class=\"p p-Indicator\">:</span> <span class=\"nv\">4.2.5+dirty</span><span class=\"p p-Indicator\">}</span>\n",
       "    <span class=\"l l-Scalar l-Scalar-Plain\">uname</span><span class=\"p p-Indicator\">:</span> <span class=\"s\">&#39;Linux</span><span class=\"nv\"> </span><span class=\"s\">r3494</span><span class=\"nv\"> </span><span class=\"s\">2.6.32-642.6.2.el6.x86_64</span><span class=\"nv\"> </span><span class=\"s\">#1</span><span class=\"nv\"> </span><span class=\"s\">SMP</span><span class=\"nv\"> </span><span class=\"s\">Wed</span><span class=\"nv\"> </span><span class=\"s\">Oct</span><span class=\"nv\"> </span><span class=\"s\">26</span><span class=\"nv\"> </span><span class=\"s\">06:52:09</span><span class=\"nv\"> </span><span class=\"s\">UTC</span><span class=\"nv\"> </span><span class=\"s\">2016</span>\n",
       "      <span class=\"s\">x86_64&#39;</span>\n",
       "  <span class=\"l l-Scalar l-Scalar-Plain\">source_datasets</span><span class=\"p p-Indicator\">:</span> <span class=\"p p-Indicator\">{}</span>\n",
       "<span class=\"l l-Scalar l-Scalar-Plain\">platform</span><span class=\"p p-Indicator\">:</span> <span class=\"p p-Indicator\">{</span><span class=\"nv\">code</span><span class=\"p p-Indicator\">:</span> <span class=\"nv\">LANDSAT_5</span><span class=\"p p-Indicator\">}</span>\n",
       "<span class=\"l l-Scalar l-Scalar-Plain\">product_flags</span><span class=\"p p-Indicator\">:</span> <span class=\"p p-Indicator\">{</span><span class=\"nv\">tested_band_1_saturated</span><span class=\"p p-Indicator\">:</span> <span class=\"nv\">true</span><span class=\"p p-Indicator\">,</span> <span class=\"nv\">tested_band_2_saturated</span><span class=\"p p-Indicator\">:</span> <span class=\"nv\">true</span><span class=\"p p-Indicator\">,</span> <span class=\"nv\">tested_band_3_saturated</span><span class=\"p p-Indicator\">:</span> <span class=\"nv\">true</span><span class=\"p p-Indicator\">,</span>\n",
       "  <span class=\"nv\">tested_band_4_saturated</span><span class=\"p p-Indicator\">:</span> <span class=\"nv\">true</span><span class=\"p p-Indicator\">,</span> <span class=\"nv\">tested_band_5_saturated</span><span class=\"p p-Indicator\">:</span> <span class=\"nv\">true</span><span class=\"p p-Indicator\">,</span> <span class=\"nv\">tested_band_6_saturated</span><span class=\"p p-Indicator\">:</span> <span class=\"nv\">true</span><span class=\"p p-Indicator\">,</span>\n",
       "  <span class=\"nv\">tested_band_7_saturated</span><span class=\"p p-Indicator\">:</span> <span class=\"nv\">true</span><span class=\"p p-Indicator\">,</span> <span class=\"nv\">tested_cloud_acca</span><span class=\"p p-Indicator\">:</span> <span class=\"nv\">true</span><span class=\"p p-Indicator\">,</span> <span class=\"nv\">tested_cloud_fmask</span><span class=\"p p-Indicator\">:</span> <span class=\"nv\">true</span><span class=\"p p-Indicator\">,</span>\n",
       "  <span class=\"nv\">tested_cloud_shadow_acca</span><span class=\"p p-Indicator\">:</span> <span class=\"nv\">true</span><span class=\"p p-Indicator\">,</span> <span class=\"nv\">tested_cloud_shadow_fmask</span><span class=\"p p-Indicator\">:</span> <span class=\"nv\">true</span><span class=\"p p-Indicator\">,</span> <span class=\"nv\">tested_contiguity</span><span class=\"p p-Indicator\">:</span> <span class=\"nv\">true</span><span class=\"p p-Indicator\">,</span>\n",
       "  <span class=\"nv\">tested_land_obs</span><span class=\"p p-Indicator\">:</span> <span class=\"nv\">true</span><span class=\"p p-Indicator\">}</span>\n",
       "<span class=\"l l-Scalar l-Scalar-Plain\">product_type</span><span class=\"p p-Indicator\">:</span> <span class=\"l l-Scalar l-Scalar-Plain\">pqa</span>\n",
       "<span class=\"l l-Scalar l-Scalar-Plain\">size_bytes</span><span class=\"p p-Indicator\">:</span> <span class=\"l l-Scalar l-Scalar-Plain\">2133254</span>\n",
       "</pre></div>\n"
      ],
      "text/plain": [
       "<IPython.core.display.HTML object>"
      ]
     },
     "metadata": {},
     "output_type": "display_data"
    }
   ],
   "source": [
    "datasets = dc.find_datasets(\n",
    "    product='ls5_pq_scene', \n",
    "    time=('2011-08', '2011-09')\n",
    ")\n",
    "\n",
    "dataset = datasets[0]\n",
    "\n",
    "display_yaml(dataset.metadata_doc)"
   ]
  },
  {
   "cell_type": "code",
   "execution_count": 5,
   "metadata": {
    "ExecuteTime": {
     "end_time": "2017-08-09T06:53:27.148473Z",
     "start_time": "2017-08-09T06:53:27.135480Z"
    },
    "collapsed": true
   },
   "outputs": [],
   "source": [
    "# Or get by id\n",
    "dataset = dc.index.datasets.get('273ffe77-b46f-4973-9773-85995db0e584')"
   ]
  },
  {
   "cell_type": "markdown",
   "metadata": {},
   "source": [
    "Rather than accessing the `metadata_doc` structure directly, it's preferable to use the fields in `dataset.metadata`, which have been parsed from the document for you. Different products can have different fields.\n",
    "\n",
    "(note that you can use the `<tab>` key in ipython after `.metadata` to complete fields)"
   ]
  },
  {
   "cell_type": "code",
   "execution_count": 6,
   "metadata": {},
   "outputs": [
    {
     "data": {
      "text/plain": [
       "(Range(begin=Decimal('94'), end=Decimal('94')),\n",
       " Range(begin=Decimal('77'), end=Decimal('77')))"
      ]
     },
     "execution_count": 6,
     "metadata": {},
     "output_type": "execute_result"
    }
   ],
   "source": [
    "# Landsat path/row ranges. Scenes are always one path/row.\n",
    "dataset.metadata.sat_path, dataset.metadata.sat_row"
   ]
  },
  {
   "cell_type": "code",
   "execution_count": 7,
   "metadata": {},
   "outputs": [
    {
     "data": {
      "text/plain": [
       "Range(begin=datetime.datetime(2011, 8, 16, 0, 0, 49), end=datetime.datetime(2011, 8, 16, 0, 1, 16))"
      ]
     },
     "execution_count": 7,
     "metadata": {},
     "output_type": "execute_result"
    }
   ],
   "source": [
    "dataset.metadata.time"
   ]
  },
  {
   "cell_type": "code",
   "execution_count": 8,
   "metadata": {},
   "outputs": [
    {
     "data": {
      "text/plain": [
       "datetime.datetime(2011, 8, 16, 0, 0, 49)"
      ]
     },
     "execution_count": 8,
     "metadata": {},
     "output_type": "execute_result"
    }
   ],
   "source": [
    "begin, end = dataset.metadata.time\n",
    "\n",
    "begin"
   ]
  },
  {
   "cell_type": "code",
   "execution_count": 9,
   "metadata": {},
   "outputs": [
    {
     "data": {
      "text/plain": [
       "'LS5_TM_PQ_P55_GAPQ01-002_094_077_20110816'"
      ]
     },
     "execution_count": 9,
     "metadata": {},
     "output_type": "execute_result"
    }
   ],
   "source": [
    "dataset.metadata.label"
   ]
  },
  {
   "cell_type": "code",
   "execution_count": 10,
   "metadata": {},
   "outputs": [
    {
     "data": {
      "text/plain": [
       "'LANDSAT_5'"
      ]
     },
     "execution_count": 10,
     "metadata": {},
     "output_type": "execute_result"
    }
   ],
   "source": [
    "dataset.metadata.platform"
   ]
  },
  {
   "cell_type": "code",
   "execution_count": 11,
   "metadata": {},
   "outputs": [
    {
     "name": "stdout",
     "output_type": "stream",
     "text": [
      "creation_dt\n",
      "format\n",
      "grid_spatial\n",
      "gsi\n",
      "id\n",
      "instrument\n",
      "label\n",
      "lat\n",
      "lon\n",
      "measurements\n",
      "orbit\n",
      "platform\n",
      "product_type\n",
      "sat_path\n",
      "sat_row\n",
      "sources\n",
      "time\n"
     ]
    }
   ],
   "source": [
    "print('\\n'.join(sorted(dataset.metadata.fields)))"
   ]
  },
  {
   "cell_type": "markdown",
   "metadata": {},
   "source": [
    "### Locations (URIs)\n",
    "There can be mulitple locations for a single dataset (eg, stored on tape, s3, local files...)"
   ]
  },
  {
   "cell_type": "code",
   "execution_count": 12,
   "metadata": {},
   "outputs": [
    {
     "data": {
      "text/plain": [
       "['file:///g/data/rs0/scenes/pq-scenes-tmp/ls5/2011/08/output/pqa/LS5_TM_PQ_P55_GAPQ01-002_094_077_20110816/ga-metadata.yaml']"
      ]
     },
     "execution_count": 12,
     "metadata": {},
     "output_type": "execute_result"
    }
   ],
   "source": [
    "dataset.uris"
   ]
  },
  {
   "cell_type": "markdown",
   "metadata": {},
   "source": [
    "`local_path` is a shorthand for choosing the most recent local `file` location as a [pathlib](https://docs.python.org/3/library/pathlib.html) Path:"
   ]
  },
  {
   "cell_type": "code",
   "execution_count": 13,
   "metadata": {},
   "outputs": [
    {
     "data": {
      "text/plain": [
       "PosixPath('/g/data/rs0/scenes/pq-scenes-tmp/ls5/2011/08/output/pqa/LS5_TM_PQ_P55_GAPQ01-002_094_077_20110816/ga-metadata.yaml')"
      ]
     },
     "execution_count": 13,
     "metadata": {},
     "output_type": "execute_result"
    }
   ],
   "source": [
    "dataset.local_path"
   ]
  },
  {
   "cell_type": "markdown",
   "metadata": {},
   "source": [
    "All paths given in the metadata are relative to these locations uris.\n",
    "\n",
    "So to calculate the path to our image file, for the latest on-disk location:"
   ]
  },
  {
   "cell_type": "code",
   "execution_count": 14,
   "metadata": {},
   "outputs": [
    {
     "name": "stdout",
     "output_type": "stream",
     "text": [
      "product/LS5_TM_PQ_P55_GAPQ01-002_094_077_20110816.tif\n"
     ]
    },
    {
     "data": {
      "text/plain": [
       "PosixPath('/g/data/rs0/scenes/pq-scenes-tmp/ls5/2011/08/output/pqa/LS5_TM_PQ_P55_GAPQ01-002_094_077_20110816/product/LS5_TM_PQ_P55_GAPQ01-002_094_077_20110816.tif')"
      ]
     },
     "execution_count": 14,
     "metadata": {},
     "output_type": "execute_result"
    }
   ],
   "source": [
    "band_offset = dataset.metadata.measurements['pqa']['path']\n",
    "print(band_offset)\n",
    "\n",
    "dataset.local_path.parent / band_offset"
   ]
  },
  {
   "cell_type": "markdown",
   "metadata": {},
   "source": [
    "# Landsat 5 PQ Albers"
   ]
  },
  {
   "cell_type": "code",
   "execution_count": 15,
   "metadata": {
    "ExecuteTime": {
     "end_time": "2017-08-09T06:54:55.893663Z",
     "start_time": "2017-08-09T06:54:55.856611Z"
    },
    "scrolled": false
   },
   "outputs": [
    {
     "data": {
      "text/html": [
       "\n",
       "        <style>\n",
       "        .highlight .hll { background-color: #ffffcc }\n",
       ".highlight  { background: #f8f8f8; }\n",
       ".highlight .c { color: #408080; font-style: italic } /* Comment */\n",
       ".highlight .err { border: 1px solid #FF0000 } /* Error */\n",
       ".highlight .k { color: #008000; font-weight: bold } /* Keyword */\n",
       ".highlight .o { color: #666666 } /* Operator */\n",
       ".highlight .ch { color: #408080; font-style: italic } /* Comment.Hashbang */\n",
       ".highlight .cm { color: #408080; font-style: italic } /* Comment.Multiline */\n",
       ".highlight .cp { color: #BC7A00 } /* Comment.Preproc */\n",
       ".highlight .cpf { color: #408080; font-style: italic } /* Comment.PreprocFile */\n",
       ".highlight .c1 { color: #408080; font-style: italic } /* Comment.Single */\n",
       ".highlight .cs { color: #408080; font-style: italic } /* Comment.Special */\n",
       ".highlight .gd { color: #A00000 } /* Generic.Deleted */\n",
       ".highlight .ge { font-style: italic } /* Generic.Emph */\n",
       ".highlight .gr { color: #FF0000 } /* Generic.Error */\n",
       ".highlight .gh { color: #000080; font-weight: bold } /* Generic.Heading */\n",
       ".highlight .gi { color: #00A000 } /* Generic.Inserted */\n",
       ".highlight .go { color: #888888 } /* Generic.Output */\n",
       ".highlight .gp { color: #000080; font-weight: bold } /* Generic.Prompt */\n",
       ".highlight .gs { font-weight: bold } /* Generic.Strong */\n",
       ".highlight .gu { color: #800080; font-weight: bold } /* Generic.Subheading */\n",
       ".highlight .gt { color: #0044DD } /* Generic.Traceback */\n",
       ".highlight .kc { color: #008000; font-weight: bold } /* Keyword.Constant */\n",
       ".highlight .kd { color: #008000; font-weight: bold } /* Keyword.Declaration */\n",
       ".highlight .kn { color: #008000; font-weight: bold } /* Keyword.Namespace */\n",
       ".highlight .kp { color: #008000 } /* Keyword.Pseudo */\n",
       ".highlight .kr { color: #008000; font-weight: bold } /* Keyword.Reserved */\n",
       ".highlight .kt { color: #B00040 } /* Keyword.Type */\n",
       ".highlight .m { color: #666666 } /* Literal.Number */\n",
       ".highlight .s { color: #BA2121 } /* Literal.String */\n",
       ".highlight .na { color: #7D9029 } /* Name.Attribute */\n",
       ".highlight .nb { color: #008000 } /* Name.Builtin */\n",
       ".highlight .nc { color: #0000FF; font-weight: bold } /* Name.Class */\n",
       ".highlight .no { color: #880000 } /* Name.Constant */\n",
       ".highlight .nd { color: #AA22FF } /* Name.Decorator */\n",
       ".highlight .ni { color: #999999; font-weight: bold } /* Name.Entity */\n",
       ".highlight .ne { color: #D2413A; font-weight: bold } /* Name.Exception */\n",
       ".highlight .nf { color: #0000FF } /* Name.Function */\n",
       ".highlight .nl { color: #A0A000 } /* Name.Label */\n",
       ".highlight .nn { color: #0000FF; font-weight: bold } /* Name.Namespace */\n",
       ".highlight .nt { color: #008000; font-weight: bold } /* Name.Tag */\n",
       ".highlight .nv { color: #19177C } /* Name.Variable */\n",
       ".highlight .ow { color: #AA22FF; font-weight: bold } /* Operator.Word */\n",
       ".highlight .w { color: #bbbbbb } /* Text.Whitespace */\n",
       ".highlight .mb { color: #666666 } /* Literal.Number.Bin */\n",
       ".highlight .mf { color: #666666 } /* Literal.Number.Float */\n",
       ".highlight .mh { color: #666666 } /* Literal.Number.Hex */\n",
       ".highlight .mi { color: #666666 } /* Literal.Number.Integer */\n",
       ".highlight .mo { color: #666666 } /* Literal.Number.Oct */\n",
       ".highlight .sa { color: #BA2121 } /* Literal.String.Affix */\n",
       ".highlight .sb { color: #BA2121 } /* Literal.String.Backtick */\n",
       ".highlight .sc { color: #BA2121 } /* Literal.String.Char */\n",
       ".highlight .dl { color: #BA2121 } /* Literal.String.Delimiter */\n",
       ".highlight .sd { color: #BA2121; font-style: italic } /* Literal.String.Doc */\n",
       ".highlight .s2 { color: #BA2121 } /* Literal.String.Double */\n",
       ".highlight .se { color: #BB6622; font-weight: bold } /* Literal.String.Escape */\n",
       ".highlight .sh { color: #BA2121 } /* Literal.String.Heredoc */\n",
       ".highlight .si { color: #BB6688; font-weight: bold } /* Literal.String.Interpol */\n",
       ".highlight .sx { color: #008000 } /* Literal.String.Other */\n",
       ".highlight .sr { color: #BB6688 } /* Literal.String.Regex */\n",
       ".highlight .s1 { color: #BA2121 } /* Literal.String.Single */\n",
       ".highlight .ss { color: #19177C } /* Literal.String.Symbol */\n",
       ".highlight .bp { color: #008000 } /* Name.Builtin.Pseudo */\n",
       ".highlight .fm { color: #0000FF } /* Name.Function.Magic */\n",
       ".highlight .vc { color: #19177C } /* Name.Variable.Class */\n",
       ".highlight .vg { color: #19177C } /* Name.Variable.Global */\n",
       ".highlight .vi { color: #19177C } /* Name.Variable.Instance */\n",
       ".highlight .vm { color: #19177C } /* Name.Variable.Magic */\n",
       ".highlight .il { color: #666666 } /* Literal.Number.Integer.Long */\n",
       "        </style>\n",
       "        "
      ],
      "text/plain": [
       "<IPython.core.display.HTML object>"
      ]
     },
     "metadata": {},
     "output_type": "display_data"
    },
    {
     "data": {
      "text/html": [
       "<div class=\"highlight\"><pre><span></span><span class=\"l l-Scalar l-Scalar-Plain\">creation_dt</span><span class=\"p p-Indicator\">:</span> <span class=\"s\">&#39;2016-07-13T09:16:57.251774&#39;</span>\n",
       "<span class=\"l l-Scalar l-Scalar-Plain\">extent</span><span class=\"p p-Indicator\">:</span>\n",
       "  <span class=\"l l-Scalar l-Scalar-Plain\">center_dt</span><span class=\"p p-Indicator\">:</span> <span class=\"s\">&#39;2010-10-26T00:37:10&#39;</span>\n",
       "  <span class=\"l l-Scalar l-Scalar-Plain\">coord</span><span class=\"p p-Indicator\">:</span>\n",
       "    <span class=\"l l-Scalar l-Scalar-Plain\">ll</span><span class=\"p p-Indicator\">:</span> <span class=\"p p-Indicator\">{</span><span class=\"nv\">lat</span><span class=\"p p-Indicator\">:</span> <span class=\"nv\">-18.21001439145226</span><span class=\"p p-Indicator\">,</span> <span class=\"nv\">lon</span><span class=\"p p-Indicator\">:</span> <span class=\"nv\">137.67707668738143</span><span class=\"p p-Indicator\">}</span>\n",
       "    <span class=\"l l-Scalar l-Scalar-Plain\">lr</span><span class=\"p p-Indicator\">:</span> <span class=\"p p-Indicator\">{</span><span class=\"nv\">lat</span><span class=\"p p-Indicator\">:</span> <span class=\"nv\">-18.166563288343532</span><span class=\"p p-Indicator\">,</span> <span class=\"nv\">lon</span><span class=\"p p-Indicator\">:</span> <span class=\"nv\">138.62168315798385</span><span class=\"p p-Indicator\">}</span>\n",
       "    <span class=\"l l-Scalar l-Scalar-Plain\">ul</span><span class=\"p p-Indicator\">:</span> <span class=\"p p-Indicator\">{</span><span class=\"nv\">lat</span><span class=\"p p-Indicator\">:</span> <span class=\"nv\">-17.679457604306094</span><span class=\"p p-Indicator\">,</span> <span class=\"nv\">lon</span><span class=\"p p-Indicator\">:</span> <span class=\"nv\">137.65248927449517</span><span class=\"p p-Indicator\">}</span>\n",
       "    <span class=\"l l-Scalar l-Scalar-Plain\">ur</span><span class=\"p p-Indicator\">:</span> <span class=\"p p-Indicator\">{</span><span class=\"nv\">lat</span><span class=\"p p-Indicator\">:</span> <span class=\"nv\">-17.636133281113658</span><span class=\"p p-Indicator\">,</span> <span class=\"nv\">lon</span><span class=\"p p-Indicator\">:</span> <span class=\"nv\">138.593018181219</span><span class=\"p p-Indicator\">}</span>\n",
       "  <span class=\"l l-Scalar l-Scalar-Plain\">from_dt</span><span class=\"p p-Indicator\">:</span> <span class=\"s\">&#39;2010-10-26T00:37:10&#39;</span>\n",
       "  <span class=\"l l-Scalar l-Scalar-Plain\">to_dt</span><span class=\"p p-Indicator\">:</span> <span class=\"s\">&#39;2010-10-26T00:37:10&#39;</span>\n",
       "<span class=\"l l-Scalar l-Scalar-Plain\">format</span><span class=\"p p-Indicator\">:</span> <span class=\"p p-Indicator\">{</span><span class=\"nv\">name</span><span class=\"p p-Indicator\">:</span> <span class=\"nv\">NetCDF</span><span class=\"p p-Indicator\">}</span>\n",
       "<span class=\"l l-Scalar l-Scalar-Plain\">grid_spatial</span><span class=\"p p-Indicator\">:</span>\n",
       "  <span class=\"l l-Scalar l-Scalar-Plain\">projection</span><span class=\"p p-Indicator\">:</span>\n",
       "    <span class=\"l l-Scalar l-Scalar-Plain\">geo_ref_points</span><span class=\"p p-Indicator\">:</span>\n",
       "      <span class=\"l l-Scalar l-Scalar-Plain\">ll</span><span class=\"p p-Indicator\">:</span> <span class=\"p p-Indicator\">{</span><span class=\"nv\">x</span><span class=\"p p-Indicator\">:</span> <span class=\"nv\">600000.0</span><span class=\"p p-Indicator\">,</span> <span class=\"nv\">y</span><span class=\"p p-Indicator\">:</span> <span class=\"nv\">-2000000.0</span><span class=\"p p-Indicator\">}</span>\n",
       "      <span class=\"l l-Scalar l-Scalar-Plain\">lr</span><span class=\"p p-Indicator\">:</span> <span class=\"p p-Indicator\">{</span><span class=\"nv\">x</span><span class=\"p p-Indicator\">:</span> <span class=\"nv\">700000.0</span><span class=\"p p-Indicator\">,</span> <span class=\"nv\">y</span><span class=\"p p-Indicator\">:</span> <span class=\"nv\">-2000000.0</span><span class=\"p p-Indicator\">}</span>\n",
       "      <span class=\"l l-Scalar l-Scalar-Plain\">ul</span><span class=\"p p-Indicator\">:</span> <span class=\"p p-Indicator\">{</span><span class=\"nv\">x</span><span class=\"p p-Indicator\">:</span> <span class=\"nv\">600000.0</span><span class=\"p p-Indicator\">,</span> <span class=\"nv\">y</span><span class=\"p p-Indicator\">:</span> <span class=\"nv\">-1900000.0</span><span class=\"p p-Indicator\">}</span>\n",
       "      <span class=\"l l-Scalar l-Scalar-Plain\">ur</span><span class=\"p p-Indicator\">:</span> <span class=\"p p-Indicator\">{</span><span class=\"nv\">x</span><span class=\"p p-Indicator\">:</span> <span class=\"nv\">700000.0</span><span class=\"p p-Indicator\">,</span> <span class=\"nv\">y</span><span class=\"p p-Indicator\">:</span> <span class=\"nv\">-1900000.0</span><span class=\"p p-Indicator\">}</span>\n",
       "    <span class=\"l l-Scalar l-Scalar-Plain\">spatial_reference</span><span class=\"p p-Indicator\">:</span> <span class=\"l l-Scalar l-Scalar-Plain\">EPSG:3577</span>\n",
       "    <span class=\"l l-Scalar l-Scalar-Plain\">valid_data</span><span class=\"p p-Indicator\">:</span>\n",
       "      <span class=\"l l-Scalar l-Scalar-Plain\">coordinates</span><span class=\"p p-Indicator\">:</span>\n",
       "      <span class=\"p p-Indicator\">-</span> <span class=\"p p-Indicator\">-</span> <span class=\"p p-Indicator\">[</span><span class=\"nv\">600000.0</span><span class=\"p p-Indicator\">,</span> <span class=\"nv\">-1938297.5043113325</span><span class=\"p p-Indicator\">]</span>\n",
       "        <span class=\"p p-Indicator\">-</span> <span class=\"p p-Indicator\">[</span><span class=\"nv\">600000.0</span><span class=\"p p-Indicator\">,</span> <span class=\"nv\">-1900000.0</span><span class=\"p p-Indicator\">]</span>\n",
       "        <span class=\"p p-Indicator\">-</span> <span class=\"p p-Indicator\">[</span><span class=\"nv\">700000.0</span><span class=\"p p-Indicator\">,</span> <span class=\"nv\">-1900000.0</span><span class=\"p p-Indicator\">]</span>\n",
       "        <span class=\"p p-Indicator\">-</span> <span class=\"p p-Indicator\">[</span><span class=\"nv\">700000.0</span><span class=\"p p-Indicator\">,</span> <span class=\"nv\">-1958771.2244949474</span><span class=\"p p-Indicator\">]</span>\n",
       "        <span class=\"p p-Indicator\">-</span> <span class=\"p p-Indicator\">[</span><span class=\"nv\">600000.0</span><span class=\"p p-Indicator\">,</span> <span class=\"nv\">-1938297.5043113325</span><span class=\"p p-Indicator\">]</span>\n",
       "      <span class=\"l l-Scalar l-Scalar-Plain\">type</span><span class=\"p p-Indicator\">:</span> <span class=\"l l-Scalar l-Scalar-Plain\">Polygon</span>\n",
       "<span class=\"l l-Scalar l-Scalar-Plain\">id</span><span class=\"p p-Indicator\">:</span> <span class=\"l l-Scalar l-Scalar-Plain\">ebfc243d-a718-4f1a-91c3-7d5d48a9c22c</span>\n",
       "<span class=\"l l-Scalar l-Scalar-Plain\">image</span><span class=\"p p-Indicator\">:</span>\n",
       "  <span class=\"l l-Scalar l-Scalar-Plain\">bands</span><span class=\"p p-Indicator\">:</span>\n",
       "    <span class=\"l l-Scalar l-Scalar-Plain\">pixelquality</span><span class=\"p p-Indicator\">:</span> <span class=\"p p-Indicator\">{</span><span class=\"nv\">layer</span><span class=\"p p-Indicator\">:</span> <span class=\"nv\">pixelquality</span><span class=\"p p-Indicator\">,</span> <span class=\"nv\">path</span><span class=\"p p-Indicator\">:</span> <span class=\"s\">&#39;&#39;</span><span class=\"p p-Indicator\">}</span>\n",
       "<span class=\"l l-Scalar l-Scalar-Plain\">instrument</span><span class=\"p p-Indicator\">:</span> <span class=\"p p-Indicator\">{</span><span class=\"nv\">name</span><span class=\"p p-Indicator\">:</span> <span class=\"nv\">TM</span><span class=\"p p-Indicator\">}</span>\n",
       "<span class=\"l l-Scalar l-Scalar-Plain\">lineage</span><span class=\"p p-Indicator\">:</span>\n",
       "  <span class=\"l l-Scalar l-Scalar-Plain\">algorithm</span><span class=\"p p-Indicator\">:</span>\n",
       "    <span class=\"l l-Scalar l-Scalar-Plain\">name</span><span class=\"p p-Indicator\">:</span> <span class=\"l l-Scalar l-Scalar-Plain\">datacube-ingest</span>\n",
       "    <span class=\"l l-Scalar l-Scalar-Plain\">parameters</span><span class=\"p p-Indicator\">:</span> <span class=\"p p-Indicator\">{</span><span class=\"nv\">configuration_file</span><span class=\"p p-Indicator\">:</span> <span class=\"nv\">ls5_pq_albers.yaml</span><span class=\"p p-Indicator\">}</span>\n",
       "    <span class=\"l l-Scalar l-Scalar-Plain\">repo_url</span><span class=\"p p-Indicator\">:</span> <span class=\"l l-Scalar l-Scalar-Plain\">https://github.com/GeoscienceAustralia/datacube-ingester.git</span>\n",
       "    <span class=\"l l-Scalar l-Scalar-Plain\">version</span><span class=\"p p-Indicator\">:</span> <span class=\"l l-Scalar l-Scalar-Plain\">1.0.5</span>\n",
       "  <span class=\"l l-Scalar l-Scalar-Plain\">machine</span><span class=\"p p-Indicator\">:</span>\n",
       "    <span class=\"l l-Scalar l-Scalar-Plain\">hostname</span><span class=\"p p-Indicator\">:</span> <span class=\"l l-Scalar l-Scalar-Plain\">r1449</span>\n",
       "    <span class=\"l l-Scalar l-Scalar-Plain\">software_versions</span><span class=\"p p-Indicator\">:</span>\n",
       "      <span class=\"l l-Scalar l-Scalar-Plain\">datacube</span><span class=\"p p-Indicator\">:</span> <span class=\"p p-Indicator\">{</span><span class=\"nv\">repo_url</span><span class=\"p p-Indicator\">:</span> <span class=\"s\">&#39;https://github.com/data-cube/agdc-v2.git&#39;</span><span class=\"p p-Indicator\">,</span> <span class=\"nv\">version</span><span class=\"p p-Indicator\">:</span> <span class=\"nv\">1.1.4</span><span class=\"p p-Indicator\">}</span>\n",
       "      <span class=\"l l-Scalar l-Scalar-Plain\">python</span><span class=\"p p-Indicator\">:</span> <span class=\"p p-Indicator\">{</span><span class=\"nv\">version</span><span class=\"p p-Indicator\">:</span> <span class=\"s\">&quot;2.7.12</span><span class=\"nv\"> </span><span class=\"s\">|Continuum</span><span class=\"nv\"> </span><span class=\"s\">Analytics,</span><span class=\"nv\"> </span><span class=\"s\">Inc.|</span><span class=\"nv\"> </span><span class=\"s\">(default,</span><span class=\"nv\"> </span><span class=\"s\">Jul</span><span class=\"nv\">  </span><span class=\"s\">2</span><span class=\"nv\"> </span><span class=\"s\">2016,\\</span>\n",
       "          <span class=\"s\">\\ 17:42:40)</span><span class=\"nv\"> </span><span class=\"s\">\\n[GCC</span><span class=\"nv\"> </span><span class=\"s\">4.4.7</span><span class=\"nv\"> </span><span class=\"s\">20120313</span><span class=\"nv\"> </span><span class=\"s\">(Red</span><span class=\"nv\"> </span><span class=\"s\">Hat</span><span class=\"nv\"> </span><span class=\"s\">4.4.7-1)]&quot;</span><span class=\"p p-Indicator\">}</span>\n",
       "    <span class=\"l l-Scalar l-Scalar-Plain\">uname</span><span class=\"p p-Indicator\">:</span> <span class=\"s\">&#39;Linux</span><span class=\"nv\"> </span><span class=\"s\">r1449</span><span class=\"nv\"> </span><span class=\"s\">2.6.32-642.1.1.el6.x86_64</span><span class=\"nv\"> </span><span class=\"s\">#1</span><span class=\"nv\"> </span><span class=\"s\">SMP</span><span class=\"nv\"> </span><span class=\"s\">Tue</span><span class=\"nv\"> </span><span class=\"s\">May</span><span class=\"nv\"> </span><span class=\"s\">31</span><span class=\"nv\"> </span><span class=\"s\">21:57:07</span><span class=\"nv\"> </span><span class=\"s\">UTC</span><span class=\"nv\"> </span><span class=\"s\">2016</span>\n",
       "      <span class=\"s\">x86_64&#39;</span>\n",
       "  <span class=\"l l-Scalar l-Scalar-Plain\">source_datasets</span><span class=\"p p-Indicator\">:</span> <span class=\"p p-Indicator\">{}</span>\n",
       "<span class=\"l l-Scalar l-Scalar-Plain\">platform</span><span class=\"p p-Indicator\">:</span> <span class=\"p p-Indicator\">{</span><span class=\"nv\">code</span><span class=\"p p-Indicator\">:</span> <span class=\"nv\">LANDSAT_5</span><span class=\"p p-Indicator\">}</span>\n",
       "<span class=\"l l-Scalar l-Scalar-Plain\">product_type</span><span class=\"p p-Indicator\">:</span> <span class=\"l l-Scalar l-Scalar-Plain\">pqa</span>\n",
       "</pre></div>\n"
      ],
      "text/plain": [
       "<IPython.core.display.HTML object>"
      ]
     },
     "metadata": {},
     "output_type": "display_data"
    }
   ],
   "source": [
    "datasets = dc.find_datasets(\n",
    "    product='ls5_pq_albers', \n",
    "    time=('2010-10-26', '2010-10-27')\n",
    ")\n",
    "\n",
    "dataset = datasets[0]\n",
    "display_yaml(dataset.metadata_doc)"
   ]
  },
  {
   "cell_type": "markdown",
   "metadata": {},
   "source": [
    "Active locations:"
   ]
  },
  {
   "cell_type": "code",
   "execution_count": 16,
   "metadata": {},
   "outputs": [
    {
     "data": {
      "text/plain": [
       "['file:///g/data/rs0/datacube/002/LS5_TM_PQ/6_-20/LS5_TM_PQ_3577_6_-20_2010_v1501876157.nc']"
      ]
     },
     "execution_count": 16,
     "metadata": {},
     "output_type": "execute_result"
    }
   ],
   "source": [
    "dataset.uris"
   ]
  },
  {
   "cell_type": "markdown",
   "metadata": {},
   "source": [
    "Notice the date component is just `2010`: it's a stack for the whole year.\n",
    "\n",
    "Archived locations:"
   ]
  },
  {
   "cell_type": "code",
   "execution_count": 17,
   "metadata": {
    "ExecuteTime": {
     "end_time": "2017-08-09T06:55:03.467520Z",
     "start_time": "2017-08-09T06:55:03.458157Z"
    }
   },
   "outputs": [
    {
     "data": {
      "text/plain": [
       "[]"
      ]
     },
     "execution_count": 17,
     "metadata": {},
     "output_type": "execute_result"
    }
   ],
   "source": [
    "dc.index.datasets.get_archived_locations(dataset.id)"
   ]
  },
  {
   "cell_type": "markdown",
   "metadata": {},
   "source": [
    "There are no results: Dave cleaned up archived/non-stacked locations from disk. Thanks Dave!\n",
    "\n",
    "But when this dataset was first stacked, we could see the unstacked (**archived**) and stacked (**active**) locations within the index (and on disk).\n",
    "\n",
    "If we do a search for this **stacked** location, we should be able to see which datasets it contains."
   ]
  },
  {
   "cell_type": "code",
   "execution_count": 18,
   "metadata": {
    "ExecuteTime": {
     "end_time": "2017-08-09T07:02:29.446158Z",
     "start_time": "2017-08-09T07:02:21.421874Z"
    }
   },
   "outputs": [
    {
     "data": {
      "text/plain": [
       "['016d8006-43b2-4a67-b558-ce602c9edb1c: 2010-02-12 00:38:12.500000',\n",
       " '0df89249-b759-418d-9184-e82307320133: 2010-12-13 00:37:08',\n",
       " '2dc092e2-3459-43e1-9824-7ea4d2543874: 2010-11-02 00:43:43',\n",
       " '356ffc9d-9971-4ad4-8d88-3de171121aa5: 2010-06-04 00:37:59',\n",
       " '37624e89-74f0-4d55-a7cb-45d2730f982f: 2010-01-18 00:44:41.500000',\n",
       " '3b6d80e9-f196-484b-89fc-69ee3a4f7074: 2010-04-08 00:44:24',\n",
       " '3bf65f23-79fa-4ebe-8226-6539708b97d4: 2010-11-18 00:43:17',\n",
       " '3cf772f4-ce39-421d-b7d0-e92d942e5e01: 2010-04-08 00:44:47.500000',\n",
       " '477661bc-8e98-4905-bd5c-1323d9ec7c50: 2010-05-03 00:38:31',\n",
       " '4a0fe2c4-c076-4e38-a328-85445deaa6a6: 2010-06-20 00:37:55.500000',\n",
       " '4b631164-bd12-43c1-a268-44fadf47b244: 2010-06-04 00:38:23',\n",
       " '58279f4e-3d84-496e-ba0e-95c05cdbf4d0: 2010-04-24 00:44:20',\n",
       " '5a2a9ec8-b852-4893-a4ff-4e327c1de8c2: 2010-03-23 00:44:26',\n",
       " '5a3cdb90-b545-4027-b40c-831cc02b619b: 2010-01-11 00:38:05',\n",
       " '5b94c301-2ce4-4733-8d96-6fd13bc45b80: 2010-05-19 00:38:04.500000',\n",
       " '5c4108e7-70b3-44e0-9ca4-93af28736906: 2010-08-23 00:37:36',\n",
       " '5e00204a-f9e5-4255-bf47-4a3526f6ddc4: 2010-04-24 00:44:43.500000',\n",
       " '61c5ad1e-3997-435a-a216-a5d25e01e070: 2010-02-03 00:44:21.500000',\n",
       " '63df5159-32f1-4566-92c9-dd6fc6462a6e: 2010-07-22 00:38:11',\n",
       " '6e43e42f-72e0-43a3-aef0-d3785d61a3a3: 2010-09-24 00:37:50.500000',\n",
       " '6f35e3c6-9e35-4794-9ae9-3e05784dfc17: 2010-06-20 00:38:19.500000',\n",
       " '73e96e2b-5828-44be-ae1c-2146a2bc0ca3: 2010-11-11 00:37:05',\n",
       " '77854b8a-2651-4f9e-b2b0-9ce3c24d6db5: 2010-10-01 00:43:34.500000',\n",
       " '778daeba-e2c6-4a35-b101-743d7cd65e43: 2010-12-13 00:37:32',\n",
       " '7e9e3b0b-651a-48e4-929b-62ef35a82f8f: 2010-04-17 00:38:11.500000',\n",
       " '852a9065-2b7f-475a-9357-5e43e92a7c60: 2010-11-27 00:37:30.500000',\n",
       " '870fb1c4-be46-4a4b-9278-1941bce21173: 2010-03-23 00:44:50',\n",
       " '8834e232-a567-41cf-a64d-30725221833b: 2010-01-11 00:38:29',\n",
       " '8d7a98dd-5c25-4e7a-a17f-35cc426d3bdc: 2010-01-18 00:44:17.500000',\n",
       " 'b17a032a-90f9-425d-9df9-ec4e234d997e: 2010-04-17 00:38:35',\n",
       " 'b9a3df28-acad-48e8-987d-e6d0942e8123: 2010-02-19 00:44:48',\n",
       " 'c01430c8-eeb6-4bfa-8fbd-bbfd06ec8b44: 2010-02-12 00:38:36.500000',\n",
       " 'c056aa0e-8219-465e-8ade-e0267414de9b: 2010-05-19 00:38:28',\n",
       " 'c7d1a5b1-cadb-424b-9f60-d1137cdd0112: 2010-11-18 00:43:41',\n",
       " 'c8f10f89-5b3b-4fe2-8176-543621e9bc38: 2010-09-08 00:37:56',\n",
       " 'ca9037a3-7911-44ce-8e62-dcf53e23360d: 2010-05-03 00:38:07.500000',\n",
       " 'cd40ba44-9393-4aa8-be1d-16791bd249cb: 2010-07-22 00:37:47.500000',\n",
       " 'd46cbd19-d661-48b5-9f5b-3a294b63e8c0: 2010-11-02 00:43:19.500000',\n",
       " 'd5ae3ae0-51f9-4566-bfbb-33a621404d9d: 2010-08-30 00:43:45.500000',\n",
       " 'db1651c1-f90f-46c0-b450-6b8180d2d4cf: 2010-11-11 00:37:29',\n",
       " 'e0fab913-50f8-4c49-91ea-bfaa50c855b7: 2010-05-26 00:44:13',\n",
       " 'e399a55e-c1a9-4518-a4cb-be4447007b78: 2010-10-26 00:37:33.500000',\n",
       " 'e4827771-d783-449f-aa8a-3f91d28aa638: 2010-05-26 00:44:37',\n",
       " 'ebfc243d-a718-4f1a-91c3-7d5d48a9c22c: 2010-10-26 00:37:10',\n",
       " 'ec24561d-7f71-47f8-af5b-a67215d75c9b: 2010-09-08 00:37:32.500000',\n",
       " 'eefcdf33-419e-4857-b92f-bf75cb9df234: 2010-02-19 00:44:24',\n",
       " 'efaa5aa9-3a35-436c-900d-f8b74c05d4fb: 2010-02-03 00:44:45.500000',\n",
       " 'f432eb31-a2bd-468d-a52b-fa143804e670: 2010-09-24 00:37:26.500000',\n",
       " 'f8b5cdaf-ed2b-4879-9197-75a9a82c9052: 2010-10-10 00:37:19',\n",
       " 'fd29d8ca-f2d1-4b9c-92a1-c5ab804273b1: 2010-08-23 00:38:00']"
      ]
     },
     "execution_count": 18,
     "metadata": {},
     "output_type": "execute_result"
    }
   ],
   "source": [
    "datasets = dc.index.datasets.get_datasets_for_location(\n",
    "    'file:///g/data/rs0/datacube/002/LS5_TM_PQ/6_-20/LS5_TM_PQ_3577_6_-20_2010_v1501876157.nc'\n",
    ")\n",
    "\n",
    "['{md.id}: {md.time.begin}'.format(md=d.metadata) for d in datasets]"
   ]
  },
  {
   "cell_type": "markdown",
   "metadata": {},
   "source": [
    "# BoM Rainfall Grids\n",
    "\n"
   ]
  },
  {
   "cell_type": "code",
   "execution_count": 19,
   "metadata": {
    "ExecuteTime": {
     "end_time": "2017-08-09T06:50:45.362449Z",
     "start_time": "2017-08-09T06:50:45.339043Z"
    },
    "collapsed": true
   },
   "outputs": [],
   "source": [
    "datasets = dc.find_datasets(\n",
    "    product='bom_rainfall_grids', \n",
    "    time=('2010-10-26', '2010-10-27')\n",
    ")\n",
    "\n",
    "dataset = datasets[0]"
   ]
  },
  {
   "cell_type": "markdown",
   "metadata": {},
   "source": [
    "Raw document"
   ]
  },
  {
   "cell_type": "code",
   "execution_count": 20,
   "metadata": {},
   "outputs": [
    {
     "data": {
      "text/html": [
       "\n",
       "        <style>\n",
       "        .highlight .hll { background-color: #ffffcc }\n",
       ".highlight  { background: #f8f8f8; }\n",
       ".highlight .c { color: #408080; font-style: italic } /* Comment */\n",
       ".highlight .err { border: 1px solid #FF0000 } /* Error */\n",
       ".highlight .k { color: #008000; font-weight: bold } /* Keyword */\n",
       ".highlight .o { color: #666666 } /* Operator */\n",
       ".highlight .ch { color: #408080; font-style: italic } /* Comment.Hashbang */\n",
       ".highlight .cm { color: #408080; font-style: italic } /* Comment.Multiline */\n",
       ".highlight .cp { color: #BC7A00 } /* Comment.Preproc */\n",
       ".highlight .cpf { color: #408080; font-style: italic } /* Comment.PreprocFile */\n",
       ".highlight .c1 { color: #408080; font-style: italic } /* Comment.Single */\n",
       ".highlight .cs { color: #408080; font-style: italic } /* Comment.Special */\n",
       ".highlight .gd { color: #A00000 } /* Generic.Deleted */\n",
       ".highlight .ge { font-style: italic } /* Generic.Emph */\n",
       ".highlight .gr { color: #FF0000 } /* Generic.Error */\n",
       ".highlight .gh { color: #000080; font-weight: bold } /* Generic.Heading */\n",
       ".highlight .gi { color: #00A000 } /* Generic.Inserted */\n",
       ".highlight .go { color: #888888 } /* Generic.Output */\n",
       ".highlight .gp { color: #000080; font-weight: bold } /* Generic.Prompt */\n",
       ".highlight .gs { font-weight: bold } /* Generic.Strong */\n",
       ".highlight .gu { color: #800080; font-weight: bold } /* Generic.Subheading */\n",
       ".highlight .gt { color: #0044DD } /* Generic.Traceback */\n",
       ".highlight .kc { color: #008000; font-weight: bold } /* Keyword.Constant */\n",
       ".highlight .kd { color: #008000; font-weight: bold } /* Keyword.Declaration */\n",
       ".highlight .kn { color: #008000; font-weight: bold } /* Keyword.Namespace */\n",
       ".highlight .kp { color: #008000 } /* Keyword.Pseudo */\n",
       ".highlight .kr { color: #008000; font-weight: bold } /* Keyword.Reserved */\n",
       ".highlight .kt { color: #B00040 } /* Keyword.Type */\n",
       ".highlight .m { color: #666666 } /* Literal.Number */\n",
       ".highlight .s { color: #BA2121 } /* Literal.String */\n",
       ".highlight .na { color: #7D9029 } /* Name.Attribute */\n",
       ".highlight .nb { color: #008000 } /* Name.Builtin */\n",
       ".highlight .nc { color: #0000FF; font-weight: bold } /* Name.Class */\n",
       ".highlight .no { color: #880000 } /* Name.Constant */\n",
       ".highlight .nd { color: #AA22FF } /* Name.Decorator */\n",
       ".highlight .ni { color: #999999; font-weight: bold } /* Name.Entity */\n",
       ".highlight .ne { color: #D2413A; font-weight: bold } /* Name.Exception */\n",
       ".highlight .nf { color: #0000FF } /* Name.Function */\n",
       ".highlight .nl { color: #A0A000 } /* Name.Label */\n",
       ".highlight .nn { color: #0000FF; font-weight: bold } /* Name.Namespace */\n",
       ".highlight .nt { color: #008000; font-weight: bold } /* Name.Tag */\n",
       ".highlight .nv { color: #19177C } /* Name.Variable */\n",
       ".highlight .ow { color: #AA22FF; font-weight: bold } /* Operator.Word */\n",
       ".highlight .w { color: #bbbbbb } /* Text.Whitespace */\n",
       ".highlight .mb { color: #666666 } /* Literal.Number.Bin */\n",
       ".highlight .mf { color: #666666 } /* Literal.Number.Float */\n",
       ".highlight .mh { color: #666666 } /* Literal.Number.Hex */\n",
       ".highlight .mi { color: #666666 } /* Literal.Number.Integer */\n",
       ".highlight .mo { color: #666666 } /* Literal.Number.Oct */\n",
       ".highlight .sa { color: #BA2121 } /* Literal.String.Affix */\n",
       ".highlight .sb { color: #BA2121 } /* Literal.String.Backtick */\n",
       ".highlight .sc { color: #BA2121 } /* Literal.String.Char */\n",
       ".highlight .dl { color: #BA2121 } /* Literal.String.Delimiter */\n",
       ".highlight .sd { color: #BA2121; font-style: italic } /* Literal.String.Doc */\n",
       ".highlight .s2 { color: #BA2121 } /* Literal.String.Double */\n",
       ".highlight .se { color: #BB6622; font-weight: bold } /* Literal.String.Escape */\n",
       ".highlight .sh { color: #BA2121 } /* Literal.String.Heredoc */\n",
       ".highlight .si { color: #BB6688; font-weight: bold } /* Literal.String.Interpol */\n",
       ".highlight .sx { color: #008000 } /* Literal.String.Other */\n",
       ".highlight .sr { color: #BB6688 } /* Literal.String.Regex */\n",
       ".highlight .s1 { color: #BA2121 } /* Literal.String.Single */\n",
       ".highlight .ss { color: #19177C } /* Literal.String.Symbol */\n",
       ".highlight .bp { color: #008000 } /* Name.Builtin.Pseudo */\n",
       ".highlight .fm { color: #0000FF } /* Name.Function.Magic */\n",
       ".highlight .vc { color: #19177C } /* Name.Variable.Class */\n",
       ".highlight .vg { color: #19177C } /* Name.Variable.Global */\n",
       ".highlight .vi { color: #19177C } /* Name.Variable.Instance */\n",
       ".highlight .vm { color: #19177C } /* Name.Variable.Magic */\n",
       ".highlight .il { color: #666666 } /* Literal.Number.Integer.Long */\n",
       "        </style>\n",
       "        "
      ],
      "text/plain": [
       "<IPython.core.display.HTML object>"
      ]
     },
     "metadata": {},
     "output_type": "display_data"
    },
    {
     "data": {
      "text/html": [
       "<div class=\"highlight\"><pre><span></span><span class=\"l l-Scalar l-Scalar-Plain\">creation_dt</span><span class=\"p p-Indicator\">:</span> <span class=\"s\">&#39;2010-09-04T09:38:57&#39;</span>\n",
       "<span class=\"l l-Scalar l-Scalar-Plain\">extent</span><span class=\"p p-Indicator\">:</span>\n",
       "  <span class=\"l l-Scalar l-Scalar-Plain\">center_dt</span><span class=\"p p-Indicator\">:</span> <span class=\"s\">&#39;2010-10-26T00:00:00&#39;</span>\n",
       "  <span class=\"l l-Scalar l-Scalar-Plain\">coord</span><span class=\"p p-Indicator\">:</span>\n",
       "    <span class=\"l l-Scalar l-Scalar-Plain\">ll</span><span class=\"p p-Indicator\">:</span> <span class=\"p p-Indicator\">{</span><span class=\"nv\">lat</span><span class=\"p p-Indicator\">:</span> <span class=\"nv\">-44.525</span><span class=\"p p-Indicator\">,</span> <span class=\"nv\">lon</span><span class=\"p p-Indicator\">:</span> <span class=\"nv\">111.975</span><span class=\"p p-Indicator\">}</span>\n",
       "    <span class=\"l l-Scalar l-Scalar-Plain\">lr</span><span class=\"p p-Indicator\">:</span> <span class=\"p p-Indicator\">{</span><span class=\"nv\">lat</span><span class=\"p p-Indicator\">:</span> <span class=\"nv\">-44.525</span><span class=\"p p-Indicator\">,</span> <span class=\"nv\">lon</span><span class=\"p p-Indicator\">:</span> <span class=\"nv\">156.275</span><span class=\"p p-Indicator\">}</span>\n",
       "    <span class=\"l l-Scalar l-Scalar-Plain\">ul</span><span class=\"p p-Indicator\">:</span> <span class=\"p p-Indicator\">{</span><span class=\"nv\">lat</span><span class=\"p p-Indicator\">:</span> <span class=\"nv\">-9.975</span><span class=\"p p-Indicator\">,</span> <span class=\"nv\">lon</span><span class=\"p p-Indicator\">:</span> <span class=\"nv\">111.975</span><span class=\"p p-Indicator\">}</span>\n",
       "    <span class=\"l l-Scalar l-Scalar-Plain\">ur</span><span class=\"p p-Indicator\">:</span> <span class=\"p p-Indicator\">{</span><span class=\"nv\">lat</span><span class=\"p p-Indicator\">:</span> <span class=\"nv\">-9.975</span><span class=\"p p-Indicator\">,</span> <span class=\"nv\">lon</span><span class=\"p p-Indicator\">:</span> <span class=\"nv\">156.275</span><span class=\"p p-Indicator\">}</span>\n",
       "  <span class=\"l l-Scalar l-Scalar-Plain\">from_dt</span><span class=\"p p-Indicator\">:</span> <span class=\"s\">&#39;2010-10-26T00:00:00&#39;</span>\n",
       "  <span class=\"l l-Scalar l-Scalar-Plain\">to_dt</span><span class=\"p p-Indicator\">:</span> <span class=\"s\">&#39;2010-10-26T00:00:00&#39;</span>\n",
       "<span class=\"l l-Scalar l-Scalar-Plain\">format</span><span class=\"p p-Indicator\">:</span> <span class=\"p p-Indicator\">{</span><span class=\"nv\">name</span><span class=\"p p-Indicator\">:</span> <span class=\"nv\">NETCDF</span><span class=\"p p-Indicator\">}</span>\n",
       "<span class=\"l l-Scalar l-Scalar-Plain\">grid_spatial</span><span class=\"p p-Indicator\">:</span>\n",
       "  <span class=\"l l-Scalar l-Scalar-Plain\">projection</span><span class=\"p p-Indicator\">:</span>\n",
       "    <span class=\"l l-Scalar l-Scalar-Plain\">geo_ref_points</span><span class=\"p p-Indicator\">:</span>\n",
       "      <span class=\"l l-Scalar l-Scalar-Plain\">ll</span><span class=\"p p-Indicator\">:</span> <span class=\"p p-Indicator\">{</span><span class=\"nv\">x</span><span class=\"p p-Indicator\">:</span> <span class=\"nv\">111.975</span><span class=\"p p-Indicator\">,</span> <span class=\"nv\">y</span><span class=\"p p-Indicator\">:</span> <span class=\"nv\">-44.525</span><span class=\"p p-Indicator\">}</span>\n",
       "      <span class=\"l l-Scalar l-Scalar-Plain\">lr</span><span class=\"p p-Indicator\">:</span> <span class=\"p p-Indicator\">{</span><span class=\"nv\">x</span><span class=\"p p-Indicator\">:</span> <span class=\"nv\">156.275</span><span class=\"p p-Indicator\">,</span> <span class=\"nv\">y</span><span class=\"p p-Indicator\">:</span> <span class=\"nv\">-44.525</span><span class=\"p p-Indicator\">}</span>\n",
       "      <span class=\"l l-Scalar l-Scalar-Plain\">ul</span><span class=\"p p-Indicator\">:</span> <span class=\"p p-Indicator\">{</span><span class=\"nv\">x</span><span class=\"p p-Indicator\">:</span> <span class=\"nv\">111.975</span><span class=\"p p-Indicator\">,</span> <span class=\"nv\">y</span><span class=\"p p-Indicator\">:</span> <span class=\"nv\">-9.975</span><span class=\"p p-Indicator\">}</span>\n",
       "      <span class=\"l l-Scalar l-Scalar-Plain\">ur</span><span class=\"p p-Indicator\">:</span> <span class=\"p p-Indicator\">{</span><span class=\"nv\">x</span><span class=\"p p-Indicator\">:</span> <span class=\"nv\">156.275</span><span class=\"p p-Indicator\">,</span> <span class=\"nv\">y</span><span class=\"p p-Indicator\">:</span> <span class=\"nv\">-9.975</span><span class=\"p p-Indicator\">}</span>\n",
       "    <span class=\"l l-Scalar l-Scalar-Plain\">spatial_reference</span><span class=\"p p-Indicator\">:</span> <span class=\"l l-Scalar l-Scalar-Plain\">EPSG:4326</span>\n",
       "<span class=\"l l-Scalar l-Scalar-Plain\">id</span><span class=\"p p-Indicator\">:</span> <span class=\"l l-Scalar l-Scalar-Plain\">9fd6ab35-4e85-4b83-abac-13c9b02b6791</span>\n",
       "<span class=\"l l-Scalar l-Scalar-Plain\">image</span><span class=\"p p-Indicator\">:</span>\n",
       "  <span class=\"l l-Scalar l-Scalar-Plain\">bands</span><span class=\"p p-Indicator\">:</span>\n",
       "    <span class=\"l l-Scalar l-Scalar-Plain\">rainfall</span><span class=\"p p-Indicator\">:</span> <span class=\"p p-Indicator\">{</span><span class=\"nv\">layer</span><span class=\"p p-Indicator\">:</span> <span class=\"nv\">rain_day</span><span class=\"p p-Indicator\">,</span> <span class=\"nv\">path</span><span class=\"p p-Indicator\">:</span> <span class=\"nv\">/g/data/rr5/agcd/0_05/rainfall/daily/2010/rr.2010102620101026.grid.nc</span><span class=\"p p-Indicator\">}</span>\n",
       "<span class=\"l l-Scalar l-Scalar-Plain\">instrument</span><span class=\"p p-Indicator\">:</span> <span class=\"p p-Indicator\">{</span><span class=\"nv\">name</span><span class=\"p p-Indicator\">:</span> <span class=\"nv\">rain gauge</span><span class=\"p p-Indicator\">}</span>\n",
       "<span class=\"l l-Scalar l-Scalar-Plain\">lineage</span><span class=\"p p-Indicator\">:</span>\n",
       "  <span class=\"l l-Scalar l-Scalar-Plain\">source_datasets</span><span class=\"p p-Indicator\">:</span> <span class=\"p p-Indicator\">{}</span>\n",
       "<span class=\"l l-Scalar l-Scalar-Plain\">platform</span><span class=\"p p-Indicator\">:</span> <span class=\"p p-Indicator\">{</span><span class=\"nv\">code</span><span class=\"p p-Indicator\">:</span> <span class=\"nv\">BoM</span><span class=\"p p-Indicator\">}</span>\n",
       "<span class=\"l l-Scalar l-Scalar-Plain\">processing_level</span><span class=\"p p-Indicator\">:</span> <span class=\"l l-Scalar l-Scalar-Plain\">modelled</span>\n",
       "<span class=\"l l-Scalar l-Scalar-Plain\">product_type</span><span class=\"p p-Indicator\">:</span> <span class=\"l l-Scalar l-Scalar-Plain\">rainfall</span>\n",
       "</pre></div>\n"
      ],
      "text/plain": [
       "<IPython.core.display.HTML object>"
      ]
     },
     "metadata": {},
     "output_type": "display_data"
    }
   ],
   "source": [
    "display_yaml(dataset.metadata_doc)"
   ]
  },
  {
   "cell_type": "markdown",
   "metadata": {
    "collapsed": true
   },
   "source": [
    "Parsed fields"
   ]
  },
  {
   "cell_type": "code",
   "execution_count": 21,
   "metadata": {},
   "outputs": [
    {
     "name": "stdout",
     "output_type": "stream",
     "text": [
      "                 lat: Range(begin=-44.525, end=-9.975)\n",
      "                 lon: Range(begin=111.975, end=156.275)\n",
      "                time: Range(begin=datetime.datetime(2010, 10, 26, 0, 0), end=datetime.datetime(2010, 10, 26, 0, 0))\n",
      "              format: NETCDF\n",
      "            platform: BoM\n",
      "          instrument: rain gauge\n",
      "        product_type: rainfall\n",
      "                  id: 9fd6ab35-4e85-4b83-abac-13c9b02b6791\n",
      "             sources: {}\n",
      "         creation_dt: 2010-09-04T09:38:57\n",
      "        grid_spatial: {'geo_ref_points': {'ll': {'x': 111.975, 'y': -44.525}, 'lr': {'x': 156.275, 'y': -44.525}, 'ul': {'x': 111.975, 'y': -9.975}, 'ur': {'x': 156.275, 'y': -9.975}}, 'spatial_reference': 'EPSG:4326'}\n",
      "        measurements: {'rainfall': {'path': '/g/data/rr5/agcd/0_05/rainfall/daily/2010/rr.2010102620101026.grid.nc', 'layer': 'rain_day'}}\n"
     ]
    }
   ],
   "source": [
    "for name, value in dataset.metadata.fields.items():\n",
    "    print('{:>20}: {}'.format(name, value))"
   ]
  },
  {
   "cell_type": "code",
   "execution_count": 22,
   "metadata": {
    "collapsed": true
   },
   "outputs": [],
   "source": [
    "dc.close()"
   ]
  }
 ],
 "metadata": {
  "gist": {
   "data": {
    "description": "Investigating Data Cube Dataset YAML format",
    "public": true
   },
   "id": ""
  },
  "hide_input": false,
  "kernelspec": {
   "display_name": "Python 3",
   "language": "python",
   "name": "python3"
  },
  "language_info": {
   "codemirror_mode": {
    "name": "ipython",
    "version": 3
   },
   "file_extension": ".py",
   "mimetype": "text/x-python",
   "name": "python",
   "nbconvert_exporter": "python",
   "pygments_lexer": "ipython3",
   "version": "3.6.1"
  },
  "toc": {
   "colors": {
    "hover_highlight": "#DAA520",
    "navigate_num": "#000000",
    "navigate_text": "#333333",
    "running_highlight": "#FF0000",
    "selected_highlight": "#FFD700",
    "sidebar_border": "#EEEEEE",
    "wrapper_background": "#FFFFFF"
   },
   "moveMenuLeft": true,
   "nav_menu": {
    "height": "122px",
    "width": "252px"
   },
   "navigate_menu": true,
   "number_sections": false,
   "sideBar": true,
   "threshold": 4,
   "toc_cell": false,
   "toc_section_display": "block",
   "toc_window_display": false,
   "widenNotebook": false
  }
 },
 "nbformat": 4,
 "nbformat_minor": 2
}
